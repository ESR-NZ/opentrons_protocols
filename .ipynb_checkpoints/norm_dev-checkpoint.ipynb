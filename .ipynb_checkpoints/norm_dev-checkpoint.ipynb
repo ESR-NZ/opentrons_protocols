{
 "cells": [
  {
   "cell_type": "code",
   "execution_count": 29,
   "metadata": {},
   "outputs": [],
   "source": [
    "from opentrons import protocol_api \n",
    "import pandas as pd\n",
    "import numpy as np\n",
    "import string\n",
    "import glob\n",
    "import os\n",
    "import time\n",
    "\n",
    "## Find excel file \n",
    "list_of_xlsx_files = glob.glob('Example_data/*.xlsx') # will need path of where these are on the robot file system\n",
    "list_of_NXT_files = [worksheet for worksheet in list_of_xlsx_files if worksheet.startswith(\"Nextera\")]\n",
    "latest_file = max(list_of_xlsx_files, key=os.path.getctime)\n",
    "## Time of file creation\n",
    "c_time = os.path.getctime(latest_file)\n",
    "local_time = time.ctime(c_time) \n",
    "    \n",
    "## load up excel sheet\n",
    "lib_pre_data = pd.read_excel(latest_file, skiprows=6, sheet_name=1)  \n",
    "\n",
    "## Get the columns of interests from excel data\n",
    "nmol4 = lib_pre_data.iloc[:,5]\n",
    "RBS4 = lib_pre_data.iloc[:,6]\n",
    "\n",
    "well_pos = lib_pre_data.iloc[:,7]\n",
    "\n",
    "nmol2 = lib_pre_data.iloc[:,11]\n",
    "RBS2 = lib_pre_data.iloc[:,12]\n",
    "\n",
    "add_lib = lib_pre_data.iloc[:,8]"
   ]
  },
  {
   "cell_type": "code",
   "execution_count": 45,
   "metadata": {},
   "outputs": [],
   "source": [
    "## Look at conc data\n",
    "low_conc_mask = nmol4 > 14 ## this is a volume (uLs). Dont use more than 14ul.\n",
    "\n",
    "nmol4_vols = nmol4[~low_conc_mask] ## may need to fix up the leading 0's from the excel sheet (ie. 'A01 -> A1')\n",
    "RBS4_vols = RBS4[~low_conc_mask]\n",
    "wells_4 = well_pos[~low_conc_mask]\n",
    "\n",
    "\n",
    "nmol2_vols = nmol2[low_conc_mask]\n",
    "RBS2_vols = RBS2[low_conc_mask]\n",
    "wells_2 = well_pos[low_conc_mask]"
   ]
  },
  {
   "cell_type": "code",
   "execution_count": null,
   "metadata": {},
   "outputs": [],
   "source": []
  },
  {
   "cell_type": "code",
   "execution_count": 47,
   "metadata": {},
   "outputs": [],
   "source": [
    "def run(protocol: protocol_api.ProtocolContext):\n",
    "\n",
    "    c_time = os.path.getctime(latest_file)\n",
    "    local_time = time.ctime(c_time) \n",
    "    \n",
    "    sample_plate = protocol.load_labware('opentrons_96_aluminumblock_nest_wellplate_100ul', 4)\n",
    "    norm_plate = protocol.load_labware('opentrons_96_aluminumblock_nest_wellplate_100ul', 5) \n",
    "    RBS = protocol.load_labware('usascientific_12_reservoir_22ml', 11)['A1']\n",
    "    pool = protocol.load_labware('opentrons_24_tuberack_eppendorf_1.5ml_safelock_snapcap',6)\n",
    "    \n",
    "    \n",
    "    tiprack_20ul_1 = protocol.load_labware('opentrons_96_filtertiprack_20ul', 8)\n",
    "    tiprack_20ul_2 = protocol.load_labware('opentrons_96_filtertiprack_20ul', 9)\n",
    "    \n",
    "    \n",
    "    p20 = protocol.load_instrument('p20_single_gen2', 'left', tip_racks = [tiprack_20ul_1,tiprack_20ul_2])\n",
    "    p300 = protocol.load_instrument('p300_single_gen2', 'right', tip_racks = [tiprack_300ul_1])    \n",
    "   \n",
    "    ## Transfer 4nmol samples\n",
    "    ## DNA\n",
    "    p20.transfer(nmol4_vols, \n",
    "                 [sample_plate.wells_by_name()[well_name] for well_name in wells_4],\n",
    "                 [norm_plate.wells_by_name()[well_name] for well_name in wells_4])\n",
    "    \n",
    "    p20.transfer(RBS4_vols, \n",
    "                 RBS,\n",
    "                 [norm_plate.wells_by_name()[well_name] for well_name in wells_4])\n",
    "    \n",
    "    \n",
    "    \n",
    "    ## Transfer 2nmol samples\n",
    "    ## DNA\n",
    "    p20.transfer(nmol2_vols, \n",
    "                 [sample_plate.wells_by_name()[well_name] for well_name in wells_4],\n",
    "                 [norm_plate.wells_by_name()[well_name] for well_name in wells_4])\n",
    "    \n",
    "    p20.transfer(RBS2_vols, \n",
    "                 RBS,\n",
    "                 [norm_plate.wells_by_name()[well_name] for well_name in wells_4])\n",
    "    \n",
    "    \n",
    "    ## Pool sampels\n",
    "    p20.transfer(add_lib, \n",
    "                 [sample_plate.wells_by_name()[well_name] for well_name in well_pos],\n",
    "                 pool)\n",
    "    "
   ]
  },
  {
   "cell_type": "code",
   "execution_count": null,
   "metadata": {},
   "outputs": [],
   "source": []
  }
 ],
 "metadata": {
  "kernelspec": {
   "display_name": "opentrons_env",
   "language": "python",
   "name": "opentrons_env"
  },
  "language_info": {
   "codemirror_mode": {
    "name": "ipython",
    "version": 3
   },
   "file_extension": ".py",
   "mimetype": "text/x-python",
   "name": "python",
   "nbconvert_exporter": "python",
   "pygments_lexer": "ipython3",
   "version": "3.7.6"
  }
 },
 "nbformat": 4,
 "nbformat_minor": 4
}
